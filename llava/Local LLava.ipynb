{
 "cells": [
  {
   "cell_type": "markdown",
   "metadata": {},
   "source": [
    "# Goal: Download and convert the weights of LlaVA into MLX, and test the forward pass of this model on example data"
   ]
  },
  {
   "cell_type": "code",
   "execution_count": 1,
   "metadata": {},
   "outputs": [],
   "source": [
    "import shutil\n",
    "from pathlib import Path\n",
    "import os\n"
   ]
  },
  {
   "cell_type": "code",
   "execution_count": 2,
   "metadata": {},
   "outputs": [],
   "source": [
    "mlx_path = Path('mlx_model')\n",
    "\n",
    "if not os.path.exists(mlx_path):\n",
    "    os.makedirs(mlx_path)\n"
   ]
  },
  {
   "cell_type": "code",
   "execution_count": 3,
   "metadata": {},
   "outputs": [
    {
     "name": "stderr",
     "output_type": "stream",
     "text": [
      "/Users/noahkasmanoff/anaconda3/envs/mlx/lib/python3.10/site-packages/tqdm/auto.py:21: TqdmWarning: IProgress not found. Please update jupyter and ipywidgets. See https://ipywidgets.readthedocs.io/en/stable/user_install.html\n",
      "  from .autonotebook import tqdm as notebook_tqdm\n",
      "Fetching 12 files: 100%|██████████| 12/12 [00:00<00:00, 181702.70it/s]\n",
      "Special tokens have been added in the vocabulary, make sure the associated word embeddings are fine-tuned or trained.\n"
     ]
    }
   ],
   "source": [
    "import mlx.core as mx\n",
    "from convert import get_model_path, fetch_from_hub, hf_repo\n",
    "\n",
    "\n",
    "model_path = get_model_path(hf_repo)\n",
    "model_config, model_weights, model_weight_files, config, tokenizer = fetch_from_hub(model_path)"
   ]
  },
  {
   "cell_type": "code",
   "execution_count": 4,
   "metadata": {},
   "outputs": [
    {
     "name": "stdout",
     "output_type": "stream",
     "text": [
      "[INFO] Converting\n",
      "[INFO] Saving\n"
     ]
    }
   ],
   "source": [
    "from utils import map_weights, should_keep_weight\n",
    "\n",
    "\n",
    "print(\"[INFO] Converting\")\n",
    "mlx_weights = dict(map_weights(k, v) for (k, v) in model_weights.items())\n",
    "mlx_weights = {k: v for (k, v) in mlx_weights.items() if should_keep_weight(k)}\n",
    "print(\"[INFO] Saving\")\n",
    "mx.savez(str(mlx_path / \"weights.npz\"), **mlx_weights)\n",
    "for fn in [\"config.json\", \"merges.txt\", \"vocab.json\", \"preprocessor_config.json\"]:\n",
    "    if fn in os.listdir(model_path):\n",
    "        shutil.copyfile(\n",
    "            str(model_path / f\"{fn}\"),\n",
    "            str(mlx_path / f\"{fn}\"),\n",
    "        )\n"
   ]
  },
  {
   "cell_type": "code",
   "execution_count": 5,
   "metadata": {},
   "outputs": [],
   "source": [
    "from llava import LlaVAConfig, LLMConfig, VisionConfig, ProjectionConfig, LlavaModel\n",
    "\n",
    "llava_mlx_config = LlaVAConfig(\n",
    "    llm_config=LLMConfig(\n",
    "        dim=4096,\n",
    "        n_layers=32,\n",
    "        head_dim=4096,\n",
    "        hidden_dim=11008,\n",
    "        norm_eps=1e-5,\n",
    "        n_heads=1, # TODO: should be 32 https://huggingface.co/lmsys/vicuna-7b-v1.5/blob/main/config.json#L14. But only works with 1. Please see llama file for how heads are split. Is this wrong?\n",
    "        n_kv_heads=1, # TODO: should be 32 https://huggingface.co/lmsys/vicuna-7b-v1.5/blob/main/config.json#L16\n",
    "        vocab_size=32064,\n",
    "        rope_theta=0,\n",
    "        rope_traditional=False\n",
    "    ),\n",
    "    vision_config=VisionConfig(\n",
    "        num_hidden_layers=24,\n",
    "        hidden_size=1024,\n",
    "        intermediate_size=4096,\n",
    "        num_attention_heads=16,\n",
    "        num_channels=3,\n",
    "        image_size=336,\n",
    "        patch_size=14\n",
    "    ),\n",
    "    projection_config=ProjectionConfig(\n",
    "        in_features=1024,\n",
    "        out_features=4096\n",
    "    )\n",
    ")\n",
    "\n",
    "\n",
    "mlx_model = LlavaModel(llava_mlx_config)\n",
    "\n"
   ]
  },
  {
   "cell_type": "code",
   "execution_count": 6,
   "metadata": {},
   "outputs": [],
   "source": [
    "mlx_model.load_weights('mlx_model/weights.npz')\n"
   ]
  },
  {
   "cell_type": "code",
   "execution_count": 7,
   "metadata": {},
   "outputs": [],
   "source": [
    "# TODO: load images, and test generate "
   ]
  },
  {
   "cell_type": "code",
   "execution_count": 8,
   "metadata": {},
   "outputs": [
    {
     "name": "stderr",
     "output_type": "stream",
     "text": [
      "Special tokens have been added in the vocabulary, make sure the associated word embeddings are fine-tuned or trained.\n",
      "Loading checkpoint shards: 100%|██████████| 3/3 [00:07<00:00,  2.48s/it]\n"
     ]
    }
   ],
   "source": [
    "# TODO: compare with hf version's model weights as well \n",
    "\n",
    "# Load model directly\n",
    "from transformers import AutoProcessor, AutoModelForPreTraining\n",
    "processor = AutoProcessor.from_pretrained(\"llava-hf/llava-1.5-7b-hf\")\n",
    "model = AutoModelForPreTraining.from_pretrained(\"llava-hf/llava-1.5-7b-hf\")"
   ]
  },
  {
   "cell_type": "code",
   "execution_count": 31,
   "metadata": {},
   "outputs": [
    {
     "data": {
      "text/plain": [
       "array([[-0.00692749, -0.0147705, -0.00254822, ..., 0.00500488, 0.00238037, -0.0027771],\n",
       "       [0.0155029, -0.00343323, 0.00121307, ..., -0.00964355, -0.0110474, 0.00744629],\n",
       "       [-0.0157471, 0.0144043, 0.000104904, ..., 0.00619507, 0.0189209, -0.00415039],\n",
       "       ...,\n",
       "       [1.54972e-06, 0.00866699, 0.000881195, ..., 0.00946045, -0.0301514, 0.0107422],\n",
       "       [0.0253906, 0.00994873, 0.00454712, ..., -0.0319824, -0.0148926, -0.0130005],\n",
       "       [-0.0108643, -0.00534058, 0.00102234, ..., 0.0164795, 0.0150146, -0.00811768]], dtype=float16)"
      ]
     },
     "execution_count": 31,
     "metadata": {},
     "output_type": "execute_result"
    }
   ],
   "source": [
    "mlx_model.language_model.layers[0].attention.wq.weight"
   ]
  },
  {
   "cell_type": "code",
   "execution_count": 32,
   "metadata": {},
   "outputs": [
    {
     "data": {
      "text/plain": [
       "Parameter containing:\n",
       "tensor([[-6.9275e-03, -1.4771e-02, -2.5482e-03,  ...,  5.0049e-03,\n",
       "          2.3804e-03, -2.7771e-03],\n",
       "        [ 1.5503e-02, -3.4332e-03,  1.2131e-03,  ..., -9.6436e-03,\n",
       "         -1.1047e-02,  7.4463e-03],\n",
       "        [-1.5747e-02,  1.4404e-02,  1.0490e-04,  ...,  6.1951e-03,\n",
       "          1.8921e-02, -4.1504e-03],\n",
       "        ...,\n",
       "        [ 1.5497e-06,  8.6670e-03,  8.8120e-04,  ...,  9.4604e-03,\n",
       "         -3.0151e-02,  1.0742e-02],\n",
       "        [ 2.5391e-02,  9.9487e-03,  4.5471e-03,  ..., -3.1982e-02,\n",
       "         -1.4893e-02, -1.3000e-02],\n",
       "        [-1.0864e-02, -5.3406e-03,  1.0223e-03,  ...,  1.6479e-02,\n",
       "          1.5015e-02, -8.1177e-03]], requires_grad=True)"
      ]
     },
     "execution_count": 32,
     "metadata": {},
     "output_type": "execute_result"
    }
   ],
   "source": [
    "model.language_model.model.layers[0].self_attn.q_proj.weight"
   ]
  },
  {
   "cell_type": "code",
   "execution_count": null,
   "metadata": {},
   "outputs": [],
   "source": [
    "# They seem to be the same!"
   ]
  },
  {
   "cell_type": "code",
   "execution_count": 9,
   "metadata": {},
   "outputs": [],
   "source": [
    "import requests\n",
    "from PIL import Image\n",
    "\n",
    "image = Image.open(requests.get(\"https://llava-vl.github.io/static/images/view.jpg\", stream=True).raw)"
   ]
  },
  {
   "cell_type": "code",
   "execution_count": null,
   "metadata": {},
   "outputs": [],
   "source": [
    "prompts = ['USER: <image> What are the things I should think aboutwhen I visit this place? ASSISTANT:'\n",
    "           ]"
   ]
  },
  {
   "cell_type": "code",
   "execution_count": null,
   "metadata": {},
   "outputs": [],
   "source": [
    "inputs = processor(prompts, images=[image], padding=True, return_tensors=\"pt\")"
   ]
  }
 ],
 "metadata": {
  "kernelspec": {
   "display_name": "mlx",
   "language": "python",
   "name": "python3"
  },
  "language_info": {
   "codemirror_mode": {
    "name": "ipython",
    "version": 3
   },
   "file_extension": ".py",
   "mimetype": "text/x-python",
   "name": "python",
   "nbconvert_exporter": "python",
   "pygments_lexer": "ipython3",
   "version": "3.10.0"
  }
 },
 "nbformat": 4,
 "nbformat_minor": 2
}
