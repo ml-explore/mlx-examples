{
 "cells": [
  {
   "cell_type": "markdown",
   "metadata": {},
   "source": [
    "# Goal: Download and convert the weights of LlaVA into MLX, and test the forward pass of this model on example data"
   ]
  },
  {
   "cell_type": "code",
   "execution_count": 1,
   "metadata": {},
   "outputs": [],
   "source": [
    "import shutil\n",
    "from pathlib import Path\n",
    "import os\n"
   ]
  },
  {
   "cell_type": "code",
   "execution_count": null,
   "metadata": {},
   "outputs": [],
   "source": []
  },
  {
   "cell_type": "code",
   "execution_count": 2,
   "metadata": {},
   "outputs": [],
   "source": [
    "mlx_path = Path('mlx_model')\n",
    "\n",
    "if not os.path.exists(mlx_path):\n",
    "    os.makedirs(mlx_path)\n"
   ]
  },
  {
   "cell_type": "code",
   "execution_count": 3,
   "metadata": {},
   "outputs": [
    {
     "name": "stderr",
     "output_type": "stream",
     "text": [
      "/Users/noahkasmanoff/anaconda3/envs/mlx/lib/python3.10/site-packages/tqdm/auto.py:21: TqdmWarning: IProgress not found. Please update jupyter and ipywidgets. See https://ipywidgets.readthedocs.io/en/stable/user_install.html\n",
      "  from .autonotebook import tqdm as notebook_tqdm\n",
      "Fetching 12 files: 100%|██████████| 12/12 [00:00<00:00, 214177.23it/s]\n",
      "Special tokens have been added in the vocabulary, make sure the associated word embeddings are fine-tuned or trained.\n"
     ]
    }
   ],
   "source": [
    "import mlx.core as mx\n",
    "from convert import get_model_path, fetch_from_hub, hf_repo\n",
    "\n",
    "\n",
    "model_path = get_model_path(hf_repo)\n",
    "model_config, model_weights, model_weight_files, config, tokenizer = fetch_from_hub(model_path)"
   ]
  },
  {
   "cell_type": "code",
   "execution_count": 4,
   "metadata": {},
   "outputs": [
    {
     "name": "stdout",
     "output_type": "stream",
     "text": [
      "[INFO] Converting\n",
      "[INFO] Saving\n"
     ]
    }
   ],
   "source": [
    "from utils import map_weights, should_keep_weight\n",
    "do_convert = True\n",
    "if do_convert:\n",
    "\n",
    "    print(\"[INFO] Converting\")\n",
    "    mlx_weights = dict(map_weights(k, v) for (k, v) in model_weights.items())\n",
    "    mlx_weights = {k: v for (k, v) in mlx_weights.items() if should_keep_weight(k)}\n",
    "    print(\"[INFO] Saving\")\n",
    "    mx.savez(str(mlx_path / \"weights.npz\"), **mlx_weights)\n",
    "    for fn in [\"config.json\", \"merges.txt\", \"vocab.json\", \"preprocessor_config.json\"]:\n",
    "        if fn in os.listdir(model_path):\n",
    "            shutil.copyfile(\n",
    "                str(model_path / f\"{fn}\"),\n",
    "                str(mlx_path / f\"{fn}\"),\n",
    "            )\n"
   ]
  },
  {
   "cell_type": "code",
   "execution_count": 5,
   "metadata": {},
   "outputs": [],
   "source": [
    "from llava import LlaVAConfig, LLMConfig, VisionConfig, ProjectionConfig, LlavaModel\n",
    "\n",
    "llava_mlx_config = LlaVAConfig(\n",
    "    llm_config=LLMConfig(\n",
    "        model_type='vicuna',\n",
    "        hidden_size=4096,\n",
    "        num_hidden_layers=32,\n",
    "        intermediate_size=11008,\n",
    "        num_attention_heads=32,\n",
    "        rms_norm_eps=1e-5,\n",
    "        vocab_size=32064,\n",
    "        num_key_value_heads=32,\n",
    "        rope_theta=0,\n",
    "        rope_traditional=False,\n",
    "        rope_scaling=None\n",
    "        ),\n",
    "    vision_config=VisionConfig(\n",
    "        num_hidden_layers=24,\n",
    "        hidden_size=1024,\n",
    "        intermediate_size=4096,\n",
    "        num_attention_heads=16,\n",
    "        num_channels=3,\n",
    "        image_size=336,\n",
    "        patch_size=14\n",
    "    ),\n",
    "    projection_config=ProjectionConfig(\n",
    "        in_features=1024,\n",
    "        out_features=4096\n",
    "    )\n",
    ")\n",
    "\n",
    "\n",
    "mlx_model = LlavaModel(llava_mlx_config)\n",
    "\n"
   ]
  },
  {
   "cell_type": "code",
   "execution_count": 6,
   "metadata": {},
   "outputs": [
    {
     "data": {
      "text/plain": [
       "2.6875"
      ]
     },
     "execution_count": 6,
     "metadata": {},
     "output_type": "execute_result"
    }
   ],
   "source": [
    "11008 / 4096"
   ]
  },
  {
   "cell_type": "code",
   "execution_count": 7,
   "metadata": {},
   "outputs": [],
   "source": [
    "mlx_model.load_weights('mlx_model/weights.npz')\n"
   ]
  },
  {
   "cell_type": "code",
   "execution_count": 27,
   "metadata": {},
   "outputs": [
    {
     "name": "stderr",
     "output_type": "stream",
     "text": [
      "Special tokens have been added in the vocabulary, make sure the associated word embeddings are fine-tuned or trained.\n"
     ]
    }
   ],
   "source": [
    "# Now that model weights are loaded in, now we can try and run inference code / set that up.\n",
    "\n",
    "# load the processor\n",
    "from transformers import AutoProcessor\n",
    "import requests\n",
    "from PIL import Image\n",
    "processor = AutoProcessor.from_pretrained(\"llava-hf/llava-1.5-7b-hf\")\n",
    "\n",
    "prompt = \"<image>\\nUSER: What's the content of the image?\\nASSISTANT:\"\n",
    "url = \"https://www.ilankelman.org/stopsigns/australia.jpg\"\n",
    "image = Image.open(requests.get(url, stream=True).raw)\n",
    "\n",
    "inputs = processor(text=prompt, images=image, return_tensors=\"pt\")\n",
    "\n"
   ]
  },
  {
   "cell_type": "code",
   "execution_count": 31,
   "metadata": {},
   "outputs": [],
   "source": [
    "\n",
    "input_ids = mx.array(inputs[\"input_ids\"].numpy())\n",
    "pixel_values = mx.array(inputs[\"pixel_values\"].numpy())\n"
   ]
  },
  {
   "cell_type": "code",
   "execution_count": 37,
   "metadata": {},
   "outputs": [],
   "source": [
    "vision_model_output = mlx_model.vision_tower(pixel_values.transpose(0,2,3,1))"
   ]
  },
  {
   "cell_type": "code",
   "execution_count": 55,
   "metadata": {},
   "outputs": [
    {
     "data": {
      "text/plain": [
       "(1, 577, 1024)"
      ]
     },
     "execution_count": 55,
     "metadata": {},
     "output_type": "execute_result"
    }
   ],
   "source": []
  },
  {
   "cell_type": "code",
   "execution_count": 57,
   "metadata": {},
   "outputs": [
    {
     "data": {
      "text/plain": [
       "CLIPVisionOutput(pooler_output=array([[-0.721487, -0.476275, 0.0173661, ..., 0.190072, -1.71528, 1.36224]], dtype=float32), last_hidden_state=array([[[-0.333623, -0.269844, 0.025435, ..., -0.0516554, -0.729696, 0.542679],\n",
       "        [0.208684, 0.92752, 0.0233985, ..., 1.59934, -0.024813, 0.879629],\n",
       "        [0.550235, 0.45201, 0.80935, ..., 1.63056, -0.37727, 0.699322],\n",
       "        ...,\n",
       "        [0.740987, 0.445616, 0.893172, ..., 0.523529, 0.0230118, -0.457155],\n",
       "        [0.49297, 0.0680847, 0.79401, ..., 0.476083, 0.274526, -0.284749],\n",
       "        [-0.0411091, 0.290756, 0.518906, ..., 0.242572, 0.40785, 0.420446]]], dtype=float32))"
      ]
     },
     "execution_count": 57,
     "metadata": {},
     "output_type": "execute_result"
    }
   ],
   "source": [
    "vision_model_output"
   ]
  },
  {
   "cell_type": "code",
   "execution_count": null,
   "metadata": {},
   "outputs": [],
   "source": []
  }
 ],
 "metadata": {
  "kernelspec": {
   "display_name": "mlx",
   "language": "python",
   "name": "python3"
  },
  "language_info": {
   "codemirror_mode": {
    "name": "ipython",
    "version": 3
   },
   "file_extension": ".py",
   "mimetype": "text/x-python",
   "name": "python",
   "nbconvert_exporter": "python",
   "pygments_lexer": "ipython3",
   "version": "3.10.0"
  }
 },
 "nbformat": 4,
 "nbformat_minor": 2
}
